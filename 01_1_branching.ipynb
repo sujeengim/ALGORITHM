{
  "nbformat": 4,
  "nbformat_minor": 0,
  "metadata": {
    "colab": {
      "provenance": [],
      "authorship_tag": "ABX9TyP0zR4y0lULRYDwRLR1PuwK"
    },
    "kernelspec": {
      "name": "python3",
      "display_name": "Python 3"
    },
    "language_info": {
      "name": "python"
    }
  },
  "cells": [
    {
      "cell_type": "code",
      "source": [
        "# chap01/max3.py\n",
        "\n",
        "print('세 정수의 최댓값을 구합니다. ')\n",
        "a = int(input('정수 a의 값을 입력하세요.: '))\n",
        "b = int(input('정수 b의 값을 입력하세요.: '))\n",
        "c = int(input('정수 c의 값을 입력하세요.: '))\n",
        "\n",
        "max = a\n",
        "if b > max: max = b\n",
        "if c > max: max = c\n",
        "\n",
        "print(f'최댓값은 {max}입니다.')"
      ],
      "metadata": {
        "colab": {
          "base_uri": "https://localhost:8080/"
        },
        "id": "CVnQVfuBo2XU",
        "outputId": "00afa001-4444-47d9-c637-b554cba76ac6"
      },
      "execution_count": 13,
      "outputs": [
        {
          "output_type": "stream",
          "name": "stdout",
          "text": [
            "세 정수의 최댓값을 구합니다. \n",
            "정수 a의 값을 입력하세요.: 1\n",
            "정수 b의 값을 입력하세요.: 2\n",
            "정수 c의 값을 입력하세요.: 3\n",
            "최댓값은 3입니다.\n"
          ]
        }
      ]
    },
    {
      "cell_type": "code",
      "source": [
        "# chap01/input1.py\n",
        "\n",
        "print('이름을 입력하세요.: ',end = '')\n",
        "name = input()\n",
        "print(f'안녕하세요? {name} 님.')"
      ],
      "metadata": {
        "colab": {
          "base_uri": "https://localhost:8080/"
        },
        "id": "nO7Zhf2p329p",
        "outputId": "7cf2ad7d-3c64-420d-8d85-985112227c68"
      },
      "execution_count": 27,
      "outputs": [
        {
          "output_type": "stream",
          "name": "stdout",
          "text": [
            "이름을 입력하세요.: ksj\n",
            "안녕하세요? ksj 님.\n"
          ]
        }
      ]
    },
    {
      "cell_type": "code",
      "source": [
        "# chap01/max3_func.py\n",
        "def maximum(a, b, c):\n",
        "    max = a\n",
        "    if b > max: max = b\n",
        "    if c > max: max = c\n",
        "    return max\n",
        "\n",
        "print(f'최댓값은 {maximum(a,b,c)}입니다.')"
      ],
      "metadata": {
        "colab": {
          "base_uri": "https://localhost:8080/"
        },
        "id": "bWN-QGIkpuxj",
        "outputId": "3cbe2e5e-84c9-417c-c2a4-be969b3a5ca9"
      },
      "execution_count": 14,
      "outputs": [
        {
          "output_type": "stream",
          "name": "stdout",
          "text": [
            "최댓값은 3입니다.\n"
          ]
        }
      ]
    },
    {
      "cell_type": "code",
      "source": [
        "# chap01/median3.py\n",
        "\n",
        "def med3(a,b,c):\n",
        "    if a>=b: #등호 경우 모두 처리\n",
        "        if b>=c: #a>=b>=c\n",
        "            return b\n",
        "        elif a<=c: #c>=a>=b\n",
        "            return a\n",
        "        else: #a>=c>=b\n",
        "            return c\n",
        "    else: #b>a\n",
        "        if a>c: #b>a>c\n",
        "            return a\n",
        "        elif b>c: #b>c>a\n",
        "            return c\n",
        "        else: #c> b>a\n",
        "            return b\n"
      ],
      "metadata": {
        "colab": {
          "base_uri": "https://localhost:8080/"
        },
        "id": "WJ9CD0WyybQv",
        "outputId": "9c3a6527-cf02-4c16-d29e-95522a978588"
      },
      "execution_count": 24,
      "outputs": [
        {
          "output_type": "stream",
          "name": "stdout",
          "text": [
            "1 2\n",
            "3\n"
          ]
        }
      ]
    },
    {
      "cell_type": "code",
      "source": [
        "# chap01/median3a.py\n",
        "\n",
        "def med3(a,b,c):\n",
        "    # b>=a>=c or c>=a>=b, 등호 경우 모두 처리\n",
        "    if (b>=a and c<=a) or (b<=a and c>=a):\n",
        "        return a\n",
        "    # a>b>c\n",
        "    elif (a>=b and c<=b) or (a<=b and c>=b):\n",
        "        return b\n",
        "    else: # a>c>b or b>c>a\n",
        "        return c\n",
        "\n",
        "print(f'세 정수의 중앙값은 {med3(a,b,c)}입니다.')"
      ],
      "metadata": {
        "colab": {
          "base_uri": "https://localhost:8080/"
        },
        "id": "xogbXt6uzD7J",
        "outputId": "23b63e60-c4a2-4c0c-baaa-c24534089497"
      },
      "execution_count": 25,
      "outputs": [
        {
          "output_type": "stream",
          "name": "stdout",
          "text": [
            "세 정수의 중앙값은 2입니다.\n"
          ]
        }
      ]
    },
    {
      "cell_type": "code",
      "source": [
        "# chap01/judge_sign.py\n",
        "\n",
        "n = int(input('정수 입력하세요.: '))\n",
        "\n",
        "if n>0:\n",
        "    print('이 수는 양수입니다.')\n",
        "elif n<0:\n",
        "    print('이 수는 음수입니다.')\n",
        "else:\n",
        "    print('이 수는 0입니다.')"
      ],
      "metadata": {
        "colab": {
          "base_uri": "https://localhost:8080/"
        },
        "id": "D0ving-h8jzM",
        "outputId": "b7a12565-aed0-40b5-ee15-d6b313f39920"
      },
      "execution_count": 26,
      "outputs": [
        {
          "output_type": "stream",
          "name": "stdout",
          "text": [
            "정수 입력하세요.: 17\n",
            "이 수는 양수입니다.\n"
          ]
        }
      ]
    },
    {
      "cell_type": "code",
      "source": [
        "# chap01/branch1.py\n",
        "\n",
        "n = int(input('정수를 입력하세요.: '))\n",
        "\n",
        "if n == 1:\n",
        "    print('A')\n",
        "elif n == 2:\n",
        "    print('B')\n",
        "else:\n",
        "    print('C')"
      ],
      "metadata": {
        "colab": {
          "base_uri": "https://localhost:8080/"
        },
        "id": "zb8Wr3gf94GY",
        "outputId": "a176d398-67f6-4908-871f-af6a80263cc4"
      },
      "execution_count": 28,
      "outputs": [
        {
          "output_type": "stream",
          "name": "stdout",
          "text": [
            "정수를 입력하세요.: 4\n",
            "C\n"
          ]
        }
      ]
    },
    {
      "cell_type": "code",
      "source": [
        "# chap01/branch2.py\n",
        "\n",
        "n = int(input('정수를 입력하세요.: '))\n",
        "\n",
        "if n == 1:\n",
        "    print('A')\n",
        "elif n == 2:\n",
        "    print('B')\n",
        "elif n == 3:\n",
        "    print('C')"
      ],
      "metadata": {
        "colab": {
          "base_uri": "https://localhost:8080/"
        },
        "id": "K-OxwyCU-FNh",
        "outputId": "5ec7c717-a330-4b1b-eeea-b6f9ffc88431"
      },
      "execution_count": 29,
      "outputs": [
        {
          "name": "stdout",
          "output_type": "stream",
          "text": [
            "정수를 입력하세요.: 4\n"
          ]
        }
      ]
    },
    {
      "cell_type": "code",
      "source": [
        "# chap01/branch2a.py\n",
        "\n",
        "n = int(input('정수를 입력하세요.: '))\n",
        "\n",
        "if n == 1:\n",
        "    print('A')\n",
        "elif n == 2:\n",
        "    print('B')\n",
        "elif n == 3:\n",
        "    print('C')\n",
        "else :\n",
        "    pass"
      ],
      "metadata": {
        "colab": {
          "base_uri": "https://localhost:8080/"
        },
        "id": "mmJEkne1-R4u",
        "outputId": "614d3791-59fd-4c22-85b6-1034075e108d"
      },
      "execution_count": 30,
      "outputs": [
        {
          "name": "stdout",
          "output_type": "stream",
          "text": [
            "정수를 입력하세요.: 4\n"
          ]
        }
      ]
    }
  ]
}