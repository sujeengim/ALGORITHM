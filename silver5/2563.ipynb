{
  "nbformat": 4,
  "nbformat_minor": 0,
  "metadata": {
    "colab": {
      "provenance": [],
      "authorship_tag": "ABX9TyM9dN/xuVTcsj4P2CNBHf/3",
      "include_colab_link": true
    },
    "kernelspec": {
      "name": "python3",
      "display_name": "Python 3"
    },
    "language_info": {
      "name": "python"
    }
  },
  "cells": [
    {
      "cell_type": "markdown",
      "metadata": {
        "id": "view-in-github",
        "colab_type": "text"
      },
      "source": [
        "<a href=\"https://colab.research.google.com/github/sujeengim/ALGORITHM/blob/main/silver5/2563.ipynb\" target=\"_parent\"><img src=\"https://colab.research.google.com/assets/colab-badge.svg\" alt=\"Open In Colab\"/></a>"
      ]
    },
    {
      "cell_type": "markdown",
      "source": [
        "# 접근\n",
        "100 *100 크기의 배열을 만들고\n",
        "색종이가 놓이는 위치의 행열부분(셀들)을 count 한다.\n",
        "\n",
        "\n",
        "count가 0인 것을 구하여 10000에서 빼준다."
      ],
      "metadata": {
        "id": "NAGNljWnpsIp"
      }
    },
    {
      "cell_type": "markdown",
      "source": [
        "# 1. 넘파이 사용"
      ],
      "metadata": {
        "id": "MrsIDV8AJyjH"
      }
    },
    {
      "cell_type": "code",
      "execution_count": null,
      "metadata": {
        "id": "qGWCrjR-pE6I"
      },
      "outputs": [],
      "source": [
        "import numpy as np\n",
        "\n",
        "# 배열 초기화\n",
        "squareList = np.array([[0] * 100 for _ in range(100)])\n",
        "\n"
      ]
    },
    {
      "cell_type": "markdown",
      "source": [
        "# 모든 행의 인덱스 1부터 3까지 값을 100으로 수정\n",
        "arr[:, 1:4] = 100\n",
        "\n",
        "print(arr)\n",
        "출력:\n",
        "\n",
        "lua\n",
        "복사\n",
        "편집\n",
        "[[  1 100 100 100   5]\n",
        " [  6 100 100 100  10]\n",
        " [ 11 100 100 100  15]]"
      ],
      "metadata": {
        "id": "lrpWIcb5xjPF"
      }
    },
    {
      "cell_type": "code",
      "source": [],
      "metadata": {
        "id": "BLYPyQBMNhHT"
      },
      "execution_count": null,
      "outputs": []
    },
    {
      "cell_type": "markdown",
      "source": [
        "# 넘파이 사용 x"
      ],
      "metadata": {
        "id": "iSP0ByvfJ0-X"
      }
    },
    {
      "cell_type": "code",
      "source": [
        "squareList = [[0] * 100 for _ in range(100)]\n",
        "# len(squareList)\n",
        "\n",
        "n = int(input())\n",
        "cnt = 0\n",
        "\n",
        "for _ in range(n):\n",
        "    colstart, rowstart = map(int, input().split(' '))\n",
        "    for indx in range(10):\n",
        "        for indx2 in range(10):\n",
        "            if (squareList[99-rowstart-indx2][colstart+indx] != 1):\n",
        "                squareList[99-rowstart-indx2][colstart+indx] += 1 #마지막행의 인덱스는 99라서\n",
        "                cnt+=1\n",
        "\n",
        "# for row in squareList:\n",
        "#     print(row)\n",
        "\n",
        "print(cnt)"
      ],
      "metadata": {
        "colab": {
          "base_uri": "https://localhost:8080/"
        },
        "id": "jSSDo2W9J3-i",
        "outputId": "91473f41-a95f-44ce-e8dc-4e415ddcdabb"
      },
      "execution_count": 10,
      "outputs": [
        {
          "output_type": "stream",
          "name": "stdout",
          "text": [
            "3\n",
            "3 7\n",
            "15 7\n",
            "5 2\n",
            "260\n"
          ]
        }
      ]
    },
    {
      "cell_type": "code",
      "source": [
        "# 내 코드보다 4ms 빠른 코드\n",
        "n=int(input())\n",
        "array = [[0 for i in range(100)] for j in range(100) ]\n",
        "for _ in range(n):\n",
        "    x, y = map(int, input().split())\n",
        "    for i in range(x, x+10):\n",
        "        for j in range(y, y+10):\n",
        "            array[i][j] += 1\n",
        "zero_sum=0\n",
        "for i in range(100):\n",
        "    zero_sum += array[i].count(0)\n",
        "print(10000-zero_sum)"
      ],
      "metadata": {
        "id": "mUZPy_Ke37ZV"
      },
      "execution_count": null,
      "outputs": []
    },
    {
      "cell_type": "markdown",
      "source": [
        "# 배열 초기화 테스트"
      ],
      "metadata": {
        "id": "P5FFFyxZrew0"
      }
    },
    {
      "cell_type": "code",
      "source": [
        "lst = [0] * 5\n",
        "lst"
      ],
      "metadata": {
        "colab": {
          "base_uri": "https://localhost:8080/"
        },
        "id": "q_0Zg__GreSF",
        "outputId": "012ec2aa-282f-4caa-c2ba-a19a1af4afe6"
      },
      "execution_count": null,
      "outputs": [
        {
          "output_type": "execute_result",
          "data": {
            "text/plain": [
              "[0, 0, 0, 0, 0]"
            ]
          },
          "metadata": {},
          "execution_count": 3
        }
      ]
    },
    {
      "cell_type": "code",
      "source": [
        "lst2 = [[0] * 5 for _ in range(3)]\n",
        "lst2"
      ],
      "metadata": {
        "colab": {
          "base_uri": "https://localhost:8080/"
        },
        "id": "Uq1sNRG7rkma",
        "outputId": "9937ae09-1282-4fe0-d0df-b18316bef7d1"
      },
      "execution_count": null,
      "outputs": [
        {
          "output_type": "execute_result",
          "data": {
            "text/plain": [
              "[[0, 0, 0, 0, 0], [0, 0, 0, 0, 0], [0, 0, 0, 0, 0]]"
            ]
          },
          "metadata": {},
          "execution_count": 1
        }
      ]
    },
    {
      "cell_type": "code",
      "source": [
        "lst2[:][1] = 1\n",
        "lst2"
      ],
      "metadata": {
        "colab": {
          "base_uri": "https://localhost:8080/"
        },
        "id": "vsXMYljEtwpl",
        "outputId": "b8d32430-2403-4d27-82fc-82507bc0e85b"
      },
      "execution_count": null,
      "outputs": [
        {
          "output_type": "execute_result",
          "data": {
            "text/plain": [
              "[[0, 0, 0, 0, 0], [0, 0, 0, 0, 0], [0, 0, 0, 0, 0]]"
            ]
          },
          "metadata": {},
          "execution_count": 4
        }
      ]
    },
    {
      "cell_type": "markdown",
      "source": [
        "제너레이터 특징\n",
        "- 메모리 효율성: 모든 데이터를 한꺼번에 메모리에 올리지 않고 하나씩 생성.\n",
        "\n",
        "- Lazy Evaluation: 필요할 때만 값을 생성하여 처리 속도가 빠름.\n",
        "\n",
        "- 반복자(Iterator)와 유사: next() 함수를 통해 값을 하나씩 얻을 수 있음."
      ],
      "metadata": {
        "id": "owrZem3Wsg5M"
      }
    },
    {
      "cell_type": "code",
      "source": [
        "lst3 = ([0] * 5 for _ in range(3))\n",
        "lst3"
      ],
      "metadata": {
        "colab": {
          "base_uri": "https://localhost:8080/"
        },
        "id": "Ohi3w8morp2q",
        "outputId": "43726e7d-bcf1-41e9-d132-62bbe505ba11"
      },
      "execution_count": null,
      "outputs": [
        {
          "output_type": "execute_result",
          "data": {
            "text/plain": [
              "<generator object <genexpr> at 0x7f96134f68e0>"
            ]
          },
          "metadata": {},
          "execution_count": 8
        }
      ]
    },
    {
      "cell_type": "code",
      "source": [
        "for i in lst3:\n",
        "    print(i)"
      ],
      "metadata": {
        "colab": {
          "base_uri": "https://localhost:8080/"
        },
        "id": "D99GpxUwry4t",
        "outputId": "72f687bc-16a7-453f-8dac-110f417abc0f"
      },
      "execution_count": null,
      "outputs": [
        {
          "output_type": "stream",
          "name": "stdout",
          "text": [
            "[0, 0, 0, 0, 0]\n",
            "[0, 0, 0, 0, 0]\n",
            "[0, 0, 0, 0, 0]\n"
          ]
        }
      ]
    },
    {
      "cell_type": "code",
      "source": [
        "import numpy\n",
        "\n",
        "numpy.array([[0] * 5 for _ in range(3)])"
      ],
      "metadata": {
        "id": "TYoRawBysdrj",
        "colab": {
          "base_uri": "https://localhost:8080/"
        },
        "outputId": "7d999bfc-49ee-4273-a2d2-58c4241dd68f"
      },
      "execution_count": null,
      "outputs": [
        {
          "output_type": "execute_result",
          "data": {
            "text/plain": [
              "array([[0, 0, 0, 0, 0],\n",
              "       [0, 0, 0, 0, 0],\n",
              "       [0, 0, 0, 0, 0]])"
            ]
          },
          "metadata": {},
          "execution_count": 6
        }
      ]
    },
    {
      "cell_type": "code",
      "source": [
        "import numpy\n",
        "lst4 = numpy.array([[0] * 5] * 3)\n",
        "lst4\n"
      ],
      "metadata": {
        "id": "-Dj2CKlgxaih",
        "colab": {
          "base_uri": "https://localhost:8080/"
        },
        "outputId": "ffc2995a-08fe-45de-faed-9ae52c03b5f7"
      },
      "execution_count": null,
      "outputs": [
        {
          "output_type": "execute_result",
          "data": {
            "text/plain": [
              "array([[0, 0, 0, 0, 0],\n",
              "       [0, 0, 0, 0, 0],\n",
              "       [0, 0, 0, 0, 0]])"
            ]
          },
          "metadata": {},
          "execution_count": 7
        }
      ]
    },
    {
      "cell_type": "code",
      "source": [
        "lst4[1:4, 1:3] = 1\n",
        "lst4"
      ],
      "metadata": {
        "colab": {
          "base_uri": "https://localhost:8080/"
        },
        "id": "51gW6z_KIYkb",
        "outputId": "511943e3-572b-459b-e9fc-c5a02896300b"
      },
      "execution_count": null,
      "outputs": [
        {
          "output_type": "execute_result",
          "data": {
            "text/plain": [
              "array([[0, 0, 0, 0, 0],\n",
              "       [0, 1, 1, 0, 0],\n",
              "       [0, 1, 1, 0, 0]])"
            ]
          },
          "metadata": {},
          "execution_count": 10
        }
      ]
    },
    {
      "cell_type": "markdown",
      "source": [
        "# 💡 문제의 원인: 얕은 복사\n",
        "[[0] * 5] * 3은 동일한 리스트 객체를 3번 복사한 것입니다.\n",
        "이로 인해 모든 행이 같은 객체를 가리키고 있어, 한 행의 값을 바꾸면 나머지 행도 함께 바뀝니다."
      ],
      "metadata": {
        "id": "7_nfWOuILKbg"
      }
    },
    {
      "cell_type": "code",
      "source": [
        "lst5 = [[0] * 5] * 3\n",
        "lst5"
      ],
      "metadata": {
        "colab": {
          "base_uri": "https://localhost:8080/"
        },
        "id": "4DXkenYKJCLR",
        "outputId": "f903dd62-e312-4a62-cf64-8fb6b580a7f4"
      },
      "execution_count": null,
      "outputs": [
        {
          "output_type": "execute_result",
          "data": {
            "text/plain": [
              "[[0, 0, 0, 0, 0], [0, 0, 0, 0, 0], [0, 0, 0, 0, 0]]"
            ]
          },
          "metadata": {},
          "execution_count": 16
        }
      ]
    },
    {
      "cell_type": "code",
      "source": [
        "lst5[1][2] = 1"
      ],
      "metadata": {
        "id": "lOWayFLuJO-W"
      },
      "execution_count": null,
      "outputs": []
    },
    {
      "cell_type": "code",
      "source": [
        "lst5"
      ],
      "metadata": {
        "colab": {
          "base_uri": "https://localhost:8080/"
        },
        "id": "ckNkRd-bJSq0",
        "outputId": "58a37ce4-4a9b-48b0-bc70-14dc09a35b09"
      },
      "execution_count": null,
      "outputs": [
        {
          "output_type": "execute_result",
          "data": {
            "text/plain": [
              "[[0, 0, 1, 0, 0], [0, 0, 1, 0, 0], [0, 0, 1, 0, 0]]"
            ]
          },
          "metadata": {},
          "execution_count": 18
        }
      ]
    },
    {
      "cell_type": "markdown",
      "source": [
        "## 위 문제 해결 방안"
      ],
      "metadata": {
        "id": "jDmaXGsaLPW0"
      }
    },
    {
      "cell_type": "code",
      "source": [
        "# 각 행을 독립적으로 초기화\n",
        "lst5 = [[0] * 5 for _ in range(3)]\n",
        "lst5[1][2] = 1\n",
        "print(lst5)"
      ],
      "metadata": {
        "colab": {
          "base_uri": "https://localhost:8080/"
        },
        "id": "jcKfd9lQJTMj",
        "outputId": "220e4a4b-01d3-4a6e-b034-0896de013316"
      },
      "execution_count": null,
      "outputs": [
        {
          "output_type": "stream",
          "name": "stdout",
          "text": [
            "[[0, 0, 0, 0, 0], [0, 0, 1, 0, 0], [0, 0, 0, 0, 0]]\n"
          ]
        }
      ]
    },
    {
      "cell_type": "markdown",
      "source": [
        "# 또 다른 테스트"
      ],
      "metadata": {
        "id": "dtyZU3SKNHMR"
      }
    },
    {
      "cell_type": "code",
      "source": [
        "lst6 = [[0] * 5 for _ in range(3)]\n",
        "lst6[1][2:] = 1\n",
        "print(lst6)"
      ],
      "metadata": {
        "colab": {
          "base_uri": "https://localhost:8080/",
          "height": 184
        },
        "id": "1FSqI14WNI15",
        "outputId": "d65d1bc3-679c-479f-df37-001cc976d287"
      },
      "execution_count": null,
      "outputs": [
        {
          "output_type": "error",
          "ename": "TypeError",
          "evalue": "can only assign an iterable",
          "traceback": [
            "\u001b[0;31m---------------------------------------------------------------------------\u001b[0m",
            "\u001b[0;31mTypeError\u001b[0m                                 Traceback (most recent call last)",
            "\u001b[0;32m<ipython-input-20-b49e430b0cce>\u001b[0m in \u001b[0;36m<cell line: 0>\u001b[0;34m()\u001b[0m\n\u001b[1;32m      1\u001b[0m \u001b[0mlst6\u001b[0m \u001b[0;34m=\u001b[0m \u001b[0;34m[\u001b[0m\u001b[0;34m[\u001b[0m\u001b[0;36m0\u001b[0m\u001b[0;34m]\u001b[0m \u001b[0;34m*\u001b[0m \u001b[0;36m5\u001b[0m \u001b[0;32mfor\u001b[0m \u001b[0m_\u001b[0m \u001b[0;32min\u001b[0m \u001b[0mrange\u001b[0m\u001b[0;34m(\u001b[0m\u001b[0;36m3\u001b[0m\u001b[0;34m)\u001b[0m\u001b[0;34m]\u001b[0m\u001b[0;34m\u001b[0m\u001b[0;34m\u001b[0m\u001b[0m\n\u001b[0;32m----> 2\u001b[0;31m \u001b[0mlst6\u001b[0m\u001b[0;34m[\u001b[0m\u001b[0;36m1\u001b[0m\u001b[0;34m]\u001b[0m\u001b[0;34m[\u001b[0m\u001b[0;36m2\u001b[0m\u001b[0;34m:\u001b[0m\u001b[0;34m]\u001b[0m \u001b[0;34m=\u001b[0m \u001b[0;36m1\u001b[0m\u001b[0;34m\u001b[0m\u001b[0;34m\u001b[0m\u001b[0m\n\u001b[0m\u001b[1;32m      3\u001b[0m \u001b[0mprint\u001b[0m\u001b[0;34m(\u001b[0m\u001b[0mlst6\u001b[0m\u001b[0;34m)\u001b[0m\u001b[0;34m\u001b[0m\u001b[0;34m\u001b[0m\u001b[0m\n",
            "\u001b[0;31mTypeError\u001b[0m: can only assign an iterable"
          ]
        }
      ]
    },
    {
      "cell_type": "code",
      "source": [
        "test = [[0]*10 for _ in range(10)]\n",
        "\n",
        "r = 2\n",
        "c = 3\n",
        "\n",
        "for indx in range(3):\n",
        "    for indx2 in range(3):\n",
        "        test[r+indx][c+indx] = 1\n",
        "\n",
        "test"
      ],
      "metadata": {
        "colab": {
          "base_uri": "https://localhost:8080/"
        },
        "id": "CAztPs-7NMDB",
        "outputId": "886fc299-cd16-4822-dc74-9060b010fb76"
      },
      "execution_count": null,
      "outputs": [
        {
          "output_type": "execute_result",
          "data": {
            "text/plain": [
              "[[0, 0, 0, 0, 0, 0, 0, 0, 0, 0],\n",
              " [0, 0, 0, 0, 0, 0, 0, 0, 0, 0],\n",
              " [0, 0, 0, 1, 0, 0, 0, 0, 0, 0],\n",
              " [0, 0, 0, 0, 1, 0, 0, 0, 0, 0],\n",
              " [0, 0, 0, 0, 0, 1, 0, 0, 0, 0],\n",
              " [0, 0, 0, 0, 0, 0, 0, 0, 0, 0],\n",
              " [0, 0, 0, 0, 0, 0, 0, 0, 0, 0],\n",
              " [0, 0, 0, 0, 0, 0, 0, 0, 0, 0],\n",
              " [0, 0, 0, 0, 0, 0, 0, 0, 0, 0],\n",
              " [0, 0, 0, 0, 0, 0, 0, 0, 0, 0]]"
            ]
          },
          "metadata": {},
          "execution_count": 22
        }
      ]
    },
    {
      "cell_type": "code",
      "source": [],
      "metadata": {
        "colab": {
          "base_uri": "https://localhost:8080/",
          "height": 111
        },
        "id": "51G9MOWy13w7",
        "outputId": "373043ba-0a81-4217-ea36-9deae479c223"
      },
      "execution_count": 8,
      "outputs": [
        {
          "output_type": "error",
          "ename": "SyntaxError",
          "evalue": "invalid syntax (<ipython-input-8-9c648f768fc9>, line 2)",
          "traceback": [
            "\u001b[0;36m  File \u001b[0;32m\"<ipython-input-8-9c648f768fc9>\"\u001b[0;36m, line \u001b[0;32m2\u001b[0m\n\u001b[0;31m    t++\u001b[0m\n\u001b[0m       ^\u001b[0m\n\u001b[0;31mSyntaxError\u001b[0m\u001b[0;31m:\u001b[0m invalid syntax\n"
          ]
        }
      ]
    },
    {
      "cell_type": "code",
      "source": [],
      "metadata": {
        "id": "Qztxd5sl16-d"
      },
      "execution_count": null,
      "outputs": []
    }
  ]
}