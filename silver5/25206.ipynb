{
  "nbformat": 4,
  "nbformat_minor": 0,
  "metadata": {
    "colab": {
      "provenance": [],
      "authorship_tag": "ABX9TyM1qlFyme3iOZysA8zTHV74"
    },
    "kernelspec": {
      "name": "python3",
      "display_name": "Python 3"
    },
    "language_info": {
      "name": "python"
    }
  },
  "cells": [
    {
      "cell_type": "code",
      "execution_count": 15,
      "metadata": {
        "colab": {
          "base_uri": "https://localhost:8080/"
        },
        "id": "t0N9Hk56S9Ue",
        "outputId": "cbd4b284-4f12-4950-dfc7-e4f4f3e5d3a8"
      },
      "outputs": [
        {
          "output_type": "stream",
          "name": "stdout",
          "text": [
            "ObjectOrientedProgramming1 3.0 A+\n",
            "IntroductiontoComputerEngineering 3.0 A+\n",
            "ObjectOrientedProgramming2 3.0 A0\n",
            "CreativeComputerEngineeringDesign 3.0 A+\n",
            "AssemblyLanguage 3.0 A+\n",
            "InternetProgramming 3.0 B0\n",
            "ApplicationProgramminginJava 3.0 A0\n",
            "SystemProgramming 3.0 B0\n",
            "OperatingSystem 3.0 B0\n",
            "WirelessCommunicationsandNetworking 3.0 C+\n",
            "LogicCircuits 3.0 B0\n",
            "DataStructure 4.0 A+\n",
            "MicroprocessorApplication 3.0 B+\n",
            "EmbeddedSoftware 3.0 C0\n",
            "ComputerSecurity 3.0 D+\n",
            "Database 3.0 C+\n",
            "Algorithm 3.0 B0\n",
            "CapstoneDesigninCSE 3.0 B+\n",
            "CompilerDesign 3.0 D0\n",
            "ProblemSolving 4.0 P\n",
            "3.2845\n"
          ]
        }
      ],
      "source": [
        "classList = []\n",
        "\n",
        "gradeDict = {\n",
        "    'A+' :\t4.5,\n",
        "    'A0' :\t4.0,\n",
        "    'B+' :\t3.5,\n",
        "    'B0' :\t3.0,\n",
        "    'C+' : 2.5,\n",
        "    'C0' : 2.0,\n",
        "    'D+' :\t1.5,\n",
        "    'D0' :\t1.0,\n",
        "    'F' :\t0.0\n",
        "}\n",
        "\n",
        "sumClass = 0.0\n",
        "sumTime = 0.0\n",
        "\n",
        "\n",
        "for i in range(20):\n",
        "    classList.append(list(input().split(' ')))\n",
        "\n",
        "    if classList[i][2] == 'P':\n",
        "        continue\n",
        "\n",
        "    #  (학점 × 과목평점)의 합\n",
        "    sumClass += ((float)(classList[i][1]) * gradeDict[classList[i][2]])\n",
        "    sumTime += (float)(classList[i][1])\n",
        "\n",
        "print(f'{sumClass/sumTime:.6f}')"
      ]
    },
    {
      "cell_type": "markdown",
      "source": [
        "# input 반환 타입 확인"
      ],
      "metadata": {
        "id": "tccPG8J-Urhk"
      }
    },
    {
      "cell_type": "code",
      "source": [
        "print(type(input())) #str"
      ],
      "metadata": {
        "colab": {
          "base_uri": "https://localhost:8080/"
        },
        "id": "6tdD_EExUL8v",
        "outputId": "67568e74-7ee8-4e7d-f3dd-6e051f8295cd"
      },
      "execution_count": null,
      "outputs": [
        {
          "output_type": "stream",
          "name": "stdout",
          "text": [
            "1\n",
            "<class 'str'>\n"
          ]
        }
      ]
    },
    {
      "cell_type": "code",
      "source": [],
      "metadata": {
        "id": "yC8ao0xCUpyZ"
      },
      "execution_count": null,
      "outputs": []
    },
    {
      "cell_type": "markdown",
      "source": [
        "# dictionary 타입 확인"
      ],
      "metadata": {
        "id": "AqZVZn8Vnh1k"
      }
    },
    {
      "cell_type": "code",
      "source": [
        "dic1 = {\n",
        "    'a':1,\n",
        "    'b':2.5\n",
        "}\n",
        "\n",
        "print(type(dic1['a'])) #넣은 값의 타입 그대로\n",
        "print(type(dic1['b']))"
      ],
      "metadata": {
        "colab": {
          "base_uri": "https://localhost:8080/"
        },
        "id": "FQBZe_hTnmxC",
        "outputId": "9505b77c-95d9-47ea-ecbe-6dd639eec018"
      },
      "execution_count": 2,
      "outputs": [
        {
          "output_type": "stream",
          "name": "stdout",
          "text": [
            "<class 'int'>\n",
            "<class 'float'>\n"
          ]
        }
      ]
    },
    {
      "cell_type": "markdown",
      "source": [
        "# float + int 확인"
      ],
      "metadata": {
        "id": "hggV9I9Su9cM"
      }
    },
    {
      "cell_type": "code",
      "source": [
        "2.5 + 2"
      ],
      "metadata": {
        "colab": {
          "base_uri": "https://localhost:8080/"
        },
        "id": "tNGN_IwPnuW4",
        "outputId": "6aa36c0a-b894-428c-e776-6e1a1221fc2b"
      },
      "execution_count": 3,
      "outputs": [
        {
          "output_type": "execute_result",
          "data": {
            "text/plain": [
              "4.5"
            ]
          },
          "metadata": {},
          "execution_count": 3
        }
      ]
    },
    {
      "cell_type": "code",
      "source": [
        "type(0.0)"
      ],
      "metadata": {
        "colab": {
          "base_uri": "https://localhost:8080/"
        },
        "id": "2XMmlcvju7yh",
        "outputId": "2b005cf7-8f9a-4f84-dbdf-395b1e9df1af"
      },
      "execution_count": 4,
      "outputs": [
        {
          "output_type": "execute_result",
          "data": {
            "text/plain": [
              "float"
            ]
          },
          "metadata": {},
          "execution_count": 4
        }
      ]
    },
    {
      "cell_type": "code",
      "source": [
        "2.5/1.1"
      ],
      "metadata": {
        "colab": {
          "base_uri": "https://localhost:8080/"
        },
        "id": "kMrdEpffvISB",
        "outputId": "46e3c39a-a9d3-42f4-ac5d-0425eb78f428"
      },
      "execution_count": 12,
      "outputs": [
        {
          "output_type": "execute_result",
          "data": {
            "text/plain": [
              "2.2727272727272725"
            ]
          },
          "metadata": {},
          "execution_count": 12
        }
      ]
    },
    {
      "cell_type": "code",
      "source": [],
      "metadata": {
        "id": "Spg03oFQxuXy"
      },
      "execution_count": null,
      "outputs": []
    },
    {
      "cell_type": "markdown",
      "source": [
        "# copilot와 코드 리뷰\n",
        "\n",
        "## 1) 코드 효율에 대해\n",
        "코드의 효율성을 평가하기 위해 몇 가지 사항을 고려할 수 있습니다:\n",
        "\n",
        "1. **입력 방식**: `input()` 함수를 `for` 루프 내에서 20번 호출하여 수동으로 데이터를 입력받는 방식은 비효율적일 수 있습니다. 특히, 많은 데이터를 처리할 때 사용자가 직접 입력해야 하는 것은 비효율적입니다.\n",
        "\n",
        "2. **리스트 사용**: `classList`를 리스트로 사용하여 데이터를 저장하는 방식은 적절합니다. 하지만, 각 항목의 접근을 위해 인덱스를 사용해야 하므로, 데이터 구조가 더 복잡해질 경우 딕셔너리와 같은 다른 데이터 구조를 사용하는 것이 더 효율적일 수 있습니다.\n",
        "\n",
        "3. **딕셔너리 사용**: `gradeDict` 딕셔너리를 사용하여 학점에 대한 점수를 매핑하는 것은 효율적입니다. 딕셔너리 접근 시간은 평균적으로 O(1)이므로 빠릅니다.\n",
        "\n",
        "4. **계산**: 학점과 과목 평점을 곱하고 합산하는 방식은 효율적입니다. 하지만, `sumClass`와 `sumTime`을 계산하기 위해 매번 타입 캐스팅을 하는 것은 불필요할 수 있습니다. 입력 데이터를 받을 때부터 숫자로 처리하는 것이 더 좋을 수 있습니다.\n",
        "\n",
        "5. **출력**: 최종 결과를 출력하는 방식은 간단하고 효율적입니다.\n",
        "\n",
        "다음은 코드의 일부를 개선할 수 있는 예입니다:\n",
        "\n",
        "```python\n",
        "classList = []\n",
        "\n",
        "gradeDict = {\n",
        "    'A+': 4.5,\n",
        "    'A0': 4.0,\n",
        "    'B+': 3.5,\n",
        "    'B0': 3.0,\n",
        "    'C+': 2.5,\n",
        "    'C0': 2.0,\n",
        "    'D+': 1.5,\n",
        "    'D0': 1.0,\n",
        "    'F': 0.0\n",
        "}\n",
        "\n",
        "sumClass = 0.0\n",
        "sumTime = 0.0\n",
        "\n",
        "for i in range(20):\n",
        "    # 데이터를 수동으로 받는 대신, 자동으로 받거나 파일로부터 읽어오는 것이 더 효율적일 수 있습니다.\n",
        "    input_data = input().split(' ')\n",
        "    class_name, credit, grade = input_data[0], float(input_data[1]), input_data[2]\n",
        "    \n",
        "    if grade == 'P':\n",
        "        continue\n",
        "\n",
        "    # (학점 × 과목평점)의 합\n",
        "    sumClass += credit * gradeDict[grade]\n",
        "    sumTime += credit\n",
        "\n",
        "print(f'{sumClass / sumTime:.6f}')\n",
        "```\n",
        "\n",
        "이 개선된 버전에서는:\n",
        "- 입력 데이터를 받을 때부터 타입 캐스팅을 수행하여 중복을 줄였습니다.\n",
        "- 리스트에서 값을 꺼내고 변수를 사용하는 방식을 통해 가독성을 높였습니다.\n",
        "\n",
        "이와 같이 코드를 개선하면 더 효율적이고 가독성이 좋아질 수 있습니다.\n",
        "\n",
        "\n",
        "## 2) classList에 모든 입력을 저장한 것에 대해\n",
        "입력 데이터를 `classList`와 같은 리스트에 저장하는 것은 일반적으로 괜찮은 방법입니다. 그러나 입력 데이터의 양이 매우 많아질 경우 메모리 사용량이 증가할 수 있습니다.\n",
        "\n",
        "이를 해결하는 몇 가지 방법을 제안드리자면:\n",
        "\n",
        "1. **데이터베이스 사용**: 입력 데이터를 리스트가 아닌 데이터베이스에 저장하면 메모리 사용을 줄일 수 있습니다. SQLite와 같은 경량 데이터베이스를 사용하여 데이터를 저장하고 필요할 때 불러오는 방법이 있습니다.\n",
        "\n",
        "2. **파일 저장**: 입력 데이터를 파일에 저장하고 필요할 때 다시 불러오는 것도 한 방법입니다. 이 경우 메모리 사용을 줄일 수 있습니다.\n",
        "\n",
        "3. **제한된 크기의 리스트**: 리스트의 크기를 제한하고 오래된 데이터를 삭제하는 방법도 있습니다. 예를 들어, 최근 100개의 입력만 저장하는 방식입니다.\n",
        "\n",
        "위의 방법 중 하나를 사용하여 메모리 사용을 최적화할 수 있습니다. 구체적인 코드나 예제를 원하시면 말씀해 주세요!"
      ],
      "metadata": {
        "id": "X8_EzwF227-v"
      }
    },
    {
      "cell_type": "code",
      "source": [],
      "metadata": {
        "id": "m-TuTUUx3vSw"
      },
      "execution_count": null,
      "outputs": []
    }
  ]
}