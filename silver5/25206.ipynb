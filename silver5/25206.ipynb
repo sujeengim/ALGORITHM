{
  "nbformat": 4,
  "nbformat_minor": 0,
  "metadata": {
    "colab": {
      "provenance": [],
      "authorship_tag": "ABX9TyMsVmOdik+asRIfd1KGYky3"
    },
    "kernelspec": {
      "name": "python3",
      "display_name": "Python 3"
    },
    "language_info": {
      "name": "python"
    }
  },
  "cells": [
    {
      "cell_type": "code",
      "execution_count": 15,
      "metadata": {
        "colab": {
          "base_uri": "https://localhost:8080/"
        },
        "id": "t0N9Hk56S9Ue",
        "outputId": "cbd4b284-4f12-4950-dfc7-e4f4f3e5d3a8"
      },
      "outputs": [
        {
          "output_type": "stream",
          "name": "stdout",
          "text": [
            "ObjectOrientedProgramming1 3.0 A+\n",
            "IntroductiontoComputerEngineering 3.0 A+\n",
            "ObjectOrientedProgramming2 3.0 A0\n",
            "CreativeComputerEngineeringDesign 3.0 A+\n",
            "AssemblyLanguage 3.0 A+\n",
            "InternetProgramming 3.0 B0\n",
            "ApplicationProgramminginJava 3.0 A0\n",
            "SystemProgramming 3.0 B0\n",
            "OperatingSystem 3.0 B0\n",
            "WirelessCommunicationsandNetworking 3.0 C+\n",
            "LogicCircuits 3.0 B0\n",
            "DataStructure 4.0 A+\n",
            "MicroprocessorApplication 3.0 B+\n",
            "EmbeddedSoftware 3.0 C0\n",
            "ComputerSecurity 3.0 D+\n",
            "Database 3.0 C+\n",
            "Algorithm 3.0 B0\n",
            "CapstoneDesigninCSE 3.0 B+\n",
            "CompilerDesign 3.0 D0\n",
            "ProblemSolving 4.0 P\n",
            "3.2845\n"
          ]
        }
      ],
      "source": [
        "classList = []\n",
        "\n",
        "gradeDict = {\n",
        "    'A+' :\t4.5,\n",
        "    'A0' :\t4.0,\n",
        "    'B+' :\t3.5,\n",
        "    'B0' :\t3.0,\n",
        "    'C+' : 2.5,\n",
        "    'C0' : 2.0,\n",
        "    'D+' :\t1.5,\n",
        "    'D0' :\t1.0,\n",
        "    'F' :\t0.0\n",
        "}\n",
        "\n",
        "sumClass = 0.0\n",
        "sumTime = 0.0\n",
        "\n",
        "\n",
        "for i in range(20):\n",
        "    classList.append(list(input().split(' ')))\n",
        "\n",
        "    if classList[i][2] == 'P':\n",
        "        continue\n",
        "\n",
        "    #  (학점 × 과목평점)의 합\n",
        "    sumClass += ((float)(classList[i][1]) * gradeDict[classList[i][2]])\n",
        "    sumTime += (float)(classList[i][1])\n",
        "\n",
        "print(f'{sumClass/sumTime:.6f}')"
      ]
    },
    {
      "cell_type": "markdown",
      "source": [
        "# input 반환 타입 확인"
      ],
      "metadata": {
        "id": "tccPG8J-Urhk"
      }
    },
    {
      "cell_type": "code",
      "source": [
        "print(type(input())) #str"
      ],
      "metadata": {
        "colab": {
          "base_uri": "https://localhost:8080/"
        },
        "id": "6tdD_EExUL8v",
        "outputId": "67568e74-7ee8-4e7d-f3dd-6e051f8295cd"
      },
      "execution_count": null,
      "outputs": [
        {
          "output_type": "stream",
          "name": "stdout",
          "text": [
            "1\n",
            "<class 'str'>\n"
          ]
        }
      ]
    },
    {
      "cell_type": "code",
      "source": [],
      "metadata": {
        "id": "yC8ao0xCUpyZ"
      },
      "execution_count": null,
      "outputs": []
    },
    {
      "cell_type": "markdown",
      "source": [
        "# dictionary 타입 확인"
      ],
      "metadata": {
        "id": "AqZVZn8Vnh1k"
      }
    },
    {
      "cell_type": "code",
      "source": [
        "dic1 = {\n",
        "    'a':1,\n",
        "    'b':2.5\n",
        "}\n",
        "\n",
        "print(type(dic1['a'])) #넣은 값의 타입 그대로\n",
        "print(type(dic1['b']))"
      ],
      "metadata": {
        "colab": {
          "base_uri": "https://localhost:8080/"
        },
        "id": "FQBZe_hTnmxC",
        "outputId": "9505b77c-95d9-47ea-ecbe-6dd639eec018"
      },
      "execution_count": 2,
      "outputs": [
        {
          "output_type": "stream",
          "name": "stdout",
          "text": [
            "<class 'int'>\n",
            "<class 'float'>\n"
          ]
        }
      ]
    },
    {
      "cell_type": "markdown",
      "source": [
        "# float + int 확인"
      ],
      "metadata": {
        "id": "hggV9I9Su9cM"
      }
    },
    {
      "cell_type": "code",
      "source": [
        "2.5 + 2"
      ],
      "metadata": {
        "colab": {
          "base_uri": "https://localhost:8080/"
        },
        "id": "tNGN_IwPnuW4",
        "outputId": "6aa36c0a-b894-428c-e776-6e1a1221fc2b"
      },
      "execution_count": 3,
      "outputs": [
        {
          "output_type": "execute_result",
          "data": {
            "text/plain": [
              "4.5"
            ]
          },
          "metadata": {},
          "execution_count": 3
        }
      ]
    },
    {
      "cell_type": "code",
      "source": [
        "type(0.0)"
      ],
      "metadata": {
        "colab": {
          "base_uri": "https://localhost:8080/"
        },
        "id": "2XMmlcvju7yh",
        "outputId": "2b005cf7-8f9a-4f84-dbdf-395b1e9df1af"
      },
      "execution_count": 4,
      "outputs": [
        {
          "output_type": "execute_result",
          "data": {
            "text/plain": [
              "float"
            ]
          },
          "metadata": {},
          "execution_count": 4
        }
      ]
    },
    {
      "cell_type": "code",
      "source": [
        "2.5/1.1"
      ],
      "metadata": {
        "colab": {
          "base_uri": "https://localhost:8080/"
        },
        "id": "kMrdEpffvISB",
        "outputId": "46e3c39a-a9d3-42f4-ac5d-0425eb78f428"
      },
      "execution_count": 12,
      "outputs": [
        {
          "output_type": "execute_result",
          "data": {
            "text/plain": [
              "2.2727272727272725"
            ]
          },
          "metadata": {},
          "execution_count": 12
        }
      ]
    },
    {
      "cell_type": "code",
      "source": [],
      "metadata": {
        "id": "Spg03oFQxuXy"
      },
      "execution_count": null,
      "outputs": []
    }
  ]
}