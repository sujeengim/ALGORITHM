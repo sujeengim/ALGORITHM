{
  "nbformat": 4,
  "nbformat_minor": 0,
  "metadata": {
    "colab": {
      "provenance": [],
      "authorship_tag": "ABX9TyP1mEtX//15LQPeU0PKrBmD",
      "include_colab_link": true
    },
    "kernelspec": {
      "name": "python3",
      "display_name": "Python 3"
    },
    "language_info": {
      "name": "python"
    }
  },
  "cells": [
    {
      "cell_type": "markdown",
      "metadata": {
        "id": "view-in-github",
        "colab_type": "text"
      },
      "source": [
        "<a href=\"https://colab.research.google.com/github/sujeengim/ALGORITHM/blob/main/02_1_list_and_tuple.ipynb\" target=\"_parent\"><img src=\"https://colab.research.google.com/assets/colab-badge.svg\" alt=\"Open In Colab\"/></a>"
      ]
    },
    {
      "cell_type": "code",
      "execution_count": null,
      "metadata": {
        "id": "pD_Re7Zg5yS-",
        "colab": {
          "base_uri": "https://localhost:8080/"
        },
        "outputId": "cfe49bfe-bd44-496d-d31c-01991c307b28"
      },
      "outputs": [
        {
          "output_type": "stream",
          "name": "stdout",
          "text": [
            "학생 그룹 점수의 합계와 평균을 구합니다.\n",
            "1번 학생의 점수를 입력하세요.: 32\n",
            "2번 학생의 점수를 입력하세요.: 54\n",
            "3번 학생의 점수를 입력하세요.: 68\n",
            "4번 학생의 점수를 입력하세요.: 72\n",
            "5번 학생의 점수를 입력하세요.: 54\n",
            "합계는 280점입니다.\n",
            "평균은 56.0점입니다.\n"
          ]
        }
      ],
      "source": [
        "# total9\n",
        "print('학생 그룹 점수의 합계와 평균을 구합니다.')\n",
        "\n",
        "score1 = int(input('1번 학생의 점수를 입력하세요.: '))\n",
        "score2 = int(input('2번 학생의 점수를 입력하세요.: '))\n",
        "score3 = int(input('3번 학생의 점수를 입력하세요.: '))\n",
        "score4 = int(input('4번 학생의 점수를 입력하세요.: '))\n",
        "score5 = int(input('5번 학생의 점수를 입력하세요.: '))\n",
        "\n",
        "total = 0\n",
        "total += score1\n",
        "total += score2\n",
        "total += score3\n",
        "total += score4\n",
        "total += score5\n",
        "\n",
        "print(f'합계는 {total}점입니다.')\n",
        "print(f'평균은 {total / 5}점입니다.')"
      ]
    },
    {
      "cell_type": "markdown",
      "source": [
        "- 사용되는 데이터 수가 변경될 경우\n",
        "- 각 데이터 값 조회 및 수정\n",
        "- 각 데이터의 연산 기능\n",
        "\n",
        "을 위해 구조 재배치 => 배열"
      ],
      "metadata": {
        "id": "sVKonokz6i2k"
      }
    },
    {
      "cell_type": "code",
      "source": [
        "#list test\n",
        "list01 = []\n",
        "list02 = [1,2,3]\n",
        "list03 = ['A','B','C']\n",
        "\n",
        "list04 = list()\n",
        "list05 = list('ABC')\n",
        "list06 = list([1,2,3])\n",
        "list07 = list((1,2,3))\n",
        "list08 = list({1,2,3})\n",
        "\n",
        "list09 = list(range(7))\n",
        "list10 = list(range(3,8))\n",
        "list11 = list(range(3,13,2))\n",
        "list12 = [None] * 5\n",
        "\n",
        "list13 = [None] * 5"
      ],
      "metadata": {
        "id": "PWuGGaQxDYpa"
      },
      "execution_count": null,
      "outputs": []
    },
    {
      "cell_type": "code",
      "source": [
        "# tuple test\n",
        "tuple01 = ()\n",
        "tuple02 = 1,\n",
        "tuple03 = (1,)\n",
        "tuple04 = 1,2,3\n",
        "tuple05 = 1,2,3,\n",
        "tuple06 = (1,2,3)\n",
        "tuple07 = (1,2,3,)\n",
        "tuple08 = 'A','B','C',\n",
        "\n",
        "# 튜플 아님\n",
        "v01 = 1\n",
        "v02 = (1) #그냥 숫자 1\n",
        "\n",
        "tuple09 = tuple()\n",
        "tuple10 = tuple('ABC')\n",
        "tuple11 = tuple([1,2,3])\n",
        "tuple12 = tuple((1,2,3))\n",
        "tuple13 = tuple({1,2,3})\n",
        "tuple14 = tuple(range(7))\n",
        "tuple15 = tuple(range(3,8))\n",
        "tuple16 = tuple(range(3,13,2)) #step"
      ],
      "metadata": {
        "id": "EVl0rkOv6T9N"
      },
      "execution_count": null,
      "outputs": []
    },
    {
      "cell_type": "markdown",
      "source": [
        "# 인덱스"
      ],
      "metadata": {
        "id": "aJJ0oxKeEcnU"
      }
    },
    {
      "cell_type": "code",
      "source": [
        "x = [11, 22, 33, 44, 55, 66, 77]\n",
        "x[2] #33\n",
        "x[-3] #55\n",
        "x[-4] =3.14 #44-> 3.14"
      ],
      "metadata": {
        "id": "eV-4pslV6QvW"
      },
      "execution_count": null,
      "outputs": []
    },
    {
      "cell_type": "markdown",
      "source": [
        "## 인덱싱과 슬라이싱\n",
        "- 인덱싱은 해당 원소의 **값**\n",
        "- 슬라이싱은 해당 범위의 원소 **리스트**\n",
        "- 슬라이싱은 유효 인덱스의 범위를 초과해도 오류가 발생하지 않는다.\n"
      ],
      "metadata": {
        "id": "u3trV9Wd-xyI"
      }
    },
    {
      "cell_type": "markdown",
      "source": [
        "# 슬라이싱\n",
        "\n",
        "s[-n:] : 맨끝(오른쪽)부터 n개 출력"
      ],
      "metadata": {
        "id": "KQeeM2T16wI2"
      }
    },
    {
      "cell_type": "code",
      "source": [
        "s = [11,22,33,44,55,66,77]\n",
        "s[0:6] #[11~66]\n",
        "s[0:7] #[11~77]\n",
        "s[0:7:2] #[11,33,55,77]\n",
        "s[-4:-2] #[44,55]\n",
        "s[3:1] #1이 3보다 작지만 오류 발생하지 않고 [] 반환\n",
        "s[3:1:-1] #[44,33] => 역순으로 출력하고 싶으면 이렇게"
      ],
      "metadata": {
        "colab": {
          "base_uri": "https://localhost:8080/"
        },
        "id": "AoxTyugM6xxV",
        "outputId": "ff1ebcf9-8223-4d46-a200-930d16a2fdd3"
      },
      "execution_count": null,
      "outputs": [
        {
          "output_type": "execute_result",
          "data": {
            "text/plain": [
              "[44, 33]"
            ]
          },
          "metadata": {},
          "execution_count": 5
        }
      ]
    },
    {
      "cell_type": "markdown",
      "source": [
        "## 언팩unpack\n",
        "- 리스트나 튜플의 원솟값을 풀어 여러 변수에 대입\n",
        "- 좌변에 여러 개의 변수를 놓고 우변에 리스트나\n",
        "튜플을 놓으면, 우변의 원소를 좌변의 변수에\n",
        "한 번에 대입 가능"
      ],
      "metadata": {
        "id": "BQwpctsG-N1o"
      }
    },
    {
      "cell_type": "code",
      "source": [
        "x = [1,2,3]\n",
        "a,b,c = x\n",
        "print(a,b,c)"
      ],
      "metadata": {
        "colab": {
          "base_uri": "https://localhost:8080/"
        },
        "id": "YkNfaQxH9_BH",
        "outputId": "0b92d837-1656-4e47-8c87-e53125119c1a"
      },
      "execution_count": null,
      "outputs": [
        {
          "output_type": "stream",
          "name": "stdout",
          "text": [
            "1 2 3\n"
          ]
        }
      ]
    },
    {
      "cell_type": "code",
      "source": [
        "x = (1,2,3)\n",
        "a,b,c = x\n",
        "print(a,b,c)"
      ],
      "metadata": {
        "colab": {
          "base_uri": "https://localhost:8080/"
        },
        "id": "rUSK6CeG-YP2",
        "outputId": "ebfd7526-d7ba-4ed3-c328-73f476aaa8ab"
      },
      "execution_count": null,
      "outputs": [
        {
          "output_type": "stream",
          "name": "stdout",
          "text": [
            "1 2 3\n"
          ]
        }
      ]
    },
    {
      "cell_type": "code",
      "source": [
        "c = [1,2,3,4,5,6,7]\n",
        "c[0:1]\n",
        "# 값이 하나여도 리스트로 반환"
      ],
      "metadata": {
        "colab": {
          "base_uri": "https://localhost:8080/"
        },
        "id": "tjJkooPu-cQA",
        "outputId": "21168f78-b7f2-4aca-c4fd-4977131fb158"
      },
      "execution_count": null,
      "outputs": [
        {
          "output_type": "execute_result",
          "data": {
            "text/plain": [
              "[1]"
            ]
          },
          "metadata": {},
          "execution_count": 8
        }
      ]
    },
    {
      "cell_type": "markdown",
      "source": [
        "## 변수의 대입\n",
        "- 변수의 값을 변경하게 되면 해당객체의 값이 변경되는 것이 아닌 가리키는 객체가 달라진다. (== id가 달라진다)\n",
        "- 대입기호 (=)는 연산자가 아닌 명령문이다 -> 연산자처럼 사용 불가"
      ],
      "metadata": {
        "id": "IRGh6VrqAqkZ"
      }
    },
    {
      "cell_type": "code",
      "source": [
        "n = 5\n",
        "id(n)"
      ],
      "metadata": {
        "colab": {
          "base_uri": "https://localhost:8080/"
        },
        "id": "vsoZueHh4H1L",
        "outputId": "6aa73b44-96f1-4489-c681-d69d7877608c"
      },
      "execution_count": null,
      "outputs": [
        {
          "output_type": "execute_result",
          "data": {
            "text/plain": [
              "10750984"
            ]
          },
          "metadata": {},
          "execution_count": 12
        }
      ]
    },
    {
      "cell_type": "code",
      "source": [
        "n = n+1\n",
        "id(n)"
      ],
      "metadata": {
        "colab": {
          "base_uri": "https://localhost:8080/"
        },
        "id": "LDLFnUOh48dc",
        "outputId": "bf35c98d-3f5f-4930-eb1e-866cc295ff19"
      },
      "execution_count": null,
      "outputs": [
        {
          "output_type": "execute_result",
          "data": {
            "text/plain": [
              "10751016"
            ]
          },
          "metadata": {},
          "execution_count": 13
        }
      ]
    },
    {
      "cell_type": "code",
      "source": [
        "n = 'ABC'\n",
        "id(n)"
      ],
      "metadata": {
        "colab": {
          "base_uri": "https://localhost:8080/"
        },
        "id": "XJ1Injiu4LHe",
        "outputId": "d0ed63aa-8c80-4718-b0d5-05c15517a57d"
      },
      "execution_count": null,
      "outputs": [
        {
          "output_type": "execute_result",
          "data": {
            "text/plain": [
              "10149472"
            ]
          },
          "metadata": {},
          "execution_count": 14
        }
      ]
    },
    {
      "cell_type": "code",
      "source": [
        "# 불가능\n",
        "# type(x = 17)"
      ],
      "metadata": {
        "id": "8GDJHSAx5GiB"
      },
      "execution_count": null,
      "outputs": []
    },
    {
      "cell_type": "markdown",
      "source": [
        "# 배열의 대소 판단\n",
        "- 맨 앞 원소부터 차례로 비교하면서 원소 값이 같으면 다음 원소를 비교\n",
        "- 배열의 원소 수가 다른 경우, 원소 수가 많은 배열을 크다고 판단"
      ],
      "metadata": {
        "id": "lTLl-943B3UP"
      }
    },
    {
      "cell_type": "code",
      "source": [
        "# 빈배열\n",
        "if x:\n",
        "    print('비어있지 않음')\n",
        "else:\n",
        "    print('비어있음')"
      ],
      "metadata": {
        "id": "Twqw2Vma5SlB"
      },
      "execution_count": null,
      "outputs": []
    },
    {
      "cell_type": "markdown",
      "source": [
        "## 값 비교\n",
        "- ==(등가성) : 좌변과 우변의 값이 같은지\n",
        "\n",
        "=> 값이 같다는건 객체가 같다는 것 아닌가?\n",
        "\n",
        "아니다. 왜냐면 리스트나 딕셔너리 같은 가변 객체는 새로운 값을 할당할 때마다 새로운 객체를 만들기 때문이다.\n",
        "\n",
        "- is(동일성) : 좌변과 우변의 값이 같은지 비교함과 동시에 두 객체의 식별 번호가 같은지 비교"
      ],
      "metadata": {
        "id": "GbJbY4OqCGIj"
      }
    },
    {
      "cell_type": "code",
      "source": [
        "[1,2,3] == [1,2,3]"
      ],
      "metadata": {
        "colab": {
          "base_uri": "https://localhost:8080/"
        },
        "id": "rUB1oisS5gCx",
        "outputId": "e304e59d-e99a-478b-b4e9-aba8b1591c7d"
      },
      "execution_count": null,
      "outputs": [
        {
          "output_type": "execute_result",
          "data": {
            "text/plain": [
              "True"
            ]
          },
          "metadata": {},
          "execution_count": 15
        }
      ]
    },
    {
      "cell_type": "code",
      "source": [
        "[1,2,3] < [1,2,4]"
      ],
      "metadata": {
        "colab": {
          "base_uri": "https://localhost:8080/"
        },
        "id": "08FAlLDh5jYN",
        "outputId": "a278ca11-9257-4368-b91a-0a8a8fc3bb7a"
      },
      "execution_count": null,
      "outputs": [
        {
          "output_type": "execute_result",
          "data": {
            "text/plain": [
              "True"
            ]
          },
          "metadata": {},
          "execution_count": 16
        }
      ]
    },
    {
      "cell_type": "code",
      "source": [
        "[1,2,3,4] <= [1,2,3,4]"
      ],
      "metadata": {
        "colab": {
          "base_uri": "https://localhost:8080/"
        },
        "id": "0SAhJ9fi5lou",
        "outputId": "17348288-efaf-43c8-c7ef-1aaa56baa5f2"
      },
      "execution_count": null,
      "outputs": [
        {
          "output_type": "execute_result",
          "data": {
            "text/plain": [
              "True"
            ]
          },
          "metadata": {},
          "execution_count": 17
        }
      ]
    },
    {
      "cell_type": "code",
      "source": [
        "[1,2,3] < [1,2,3,5]"
      ],
      "metadata": {
        "colab": {
          "base_uri": "https://localhost:8080/"
        },
        "id": "SIzyQKSC5p5l",
        "outputId": "5d5868e0-224c-42cd-b33f-217ef0c17e68"
      },
      "execution_count": null,
      "outputs": [
        {
          "output_type": "execute_result",
          "data": {
            "text/plain": [
              "True"
            ]
          },
          "metadata": {},
          "execution_count": 18
        }
      ]
    },
    {
      "cell_type": "code",
      "source": [
        "[1,2,3] < [1,2,3,5] <[1,2,3,5,6]"
      ],
      "metadata": {
        "colab": {
          "base_uri": "https://localhost:8080/"
        },
        "id": "oJfrWUMc5sMA",
        "outputId": "b009d15b-fa7b-4599-9129-06d14c125930"
      },
      "execution_count": null,
      "outputs": [
        {
          "output_type": "execute_result",
          "data": {
            "text/plain": [
              "True"
            ]
          },
          "metadata": {},
          "execution_count": 19
        }
      ]
    },
    {
      "cell_type": "markdown",
      "source": [
        "# 내포 표기 생성\n",
        "리스트 안에서 for, if 문을 사용하여 새로운 리스트를 생성하는 기법"
      ],
      "metadata": {
        "id": "_l5ZGkGu53bQ"
      }
    },
    {
      "cell_type": "code",
      "source": [
        "numbers = [1,2,3,4,5]\n",
        "twise = [num*2 for num in numbers if num%2 == 1 ]\n",
        "# number에서 1, 3, 5 선택됨\n",
        "print(twise)"
      ],
      "metadata": {
        "colab": {
          "base_uri": "https://localhost:8080/"
        },
        "id": "3KKUu0cB5wJf",
        "outputId": "6a1e2ee3-d4a6-411a-cc95-6ec4187538ad"
      },
      "execution_count": null,
      "outputs": [
        {
          "output_type": "stream",
          "name": "stdout",
          "text": [
            "[2, 6, 10]\n"
          ]
        }
      ]
    }
  ]
}