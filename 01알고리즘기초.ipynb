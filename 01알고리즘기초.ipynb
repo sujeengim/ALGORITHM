{
  "nbformat": 4,
  "nbformat_minor": 0,
  "metadata": {
    "colab": {
      "provenance": [],
      "authorship_tag": "ABX9TyNFIYqfFMNb7lnPFdJBbpdp",
      "include_colab_link": true
    },
    "kernelspec": {
      "name": "python3",
      "display_name": "Python 3"
    },
    "language_info": {
      "name": "python"
    }
  },
  "cells": [
    {
      "cell_type": "markdown",
      "metadata": {
        "id": "view-in-github",
        "colab_type": "text"
      },
      "source": [
        "<a href=\"https://colab.research.google.com/github/sujeengim/DS-and-ALGORITHM/blob/main/01%EC%95%8C%EA%B3%A0%EB%A6%AC%EC%A6%98%EA%B8%B0%EC%B4%88.ipynb\" target=\"_parent\"><img src=\"https://colab.research.google.com/assets/colab-badge.svg\" alt=\"Open In Colab\"/></a>"
      ]
    },
    {
      "cell_type": "markdown",
      "source": [
        "# 알고리즘 : 어떠한 문제를 해결하기 위해 정해 놓은 일련의 절차\n",
        "\n",
        "어떠한 경우에도 실행결과가 같아야 함.\n",
        "예) 최댓값 구하는 알고리즘에서 어떤 값이 입력되더라도 최댓값을 잘 구해내야 함"
      ],
      "metadata": {
        "id": "mQi_larHBBH6"
      }
    },
    {
      "cell_type": "markdown",
      "source": [
        "### 문자열 입력 받고 출력하기"
      ],
      "metadata": {
        "id": "5Aq_T8DYAbAC"
      }
    },
    {
      "cell_type": "code",
      "source": [
        "name = input('이름을 입력하세요: ')\n",
        "print(f'안녕하세요? {name}님')"
      ],
      "metadata": {
        "colab": {
          "base_uri": "https://localhost:8080/"
        },
        "id": "vbOJkgbTAu5i",
        "outputId": "a93df1e2-b79c-4c8d-8d1b-0d1cad8adadb"
      },
      "execution_count": null,
      "outputs": [
        {
          "output_type": "stream",
          "name": "stdout",
          "text": [
            "이름을 입력하세요: susan\n",
            "안녕하세요? susan님\n"
          ]
        }
      ]
    },
    {
      "cell_type": "code",
      "execution_count": null,
      "metadata": {
        "colab": {
          "base_uri": "https://localhost:8080/",
          "height": 111
        },
        "id": "A76M1_3mAD2e",
        "outputId": "39f3c6b4-6c4b-4acd-9183-90e4de0deaca"
      },
      "outputs": [
        {
          "output_type": "error",
          "ename": "SyntaxError",
          "evalue": "f-string: unmatched '(' (<ipython-input-2-e59e4fe1018b>, line 1)",
          "traceback": [
            "\u001b[0;36m  File \u001b[0;32m\"<ipython-input-2-e59e4fe1018b>\"\u001b[0;36m, line \u001b[0;32m1\u001b[0m\n\u001b[0;31m    print(f'안녕하세요? {input('이름을 입력하세요.: ')}님')\u001b[0m\n\u001b[0m                           ^\u001b[0m\n\u001b[0;31mSyntaxError\u001b[0m\u001b[0;31m:\u001b[0m f-string: unmatched '('\n"
          ]
        }
      ],
      "source": [
        "print(f'안녕하세요? {input('이름을 입력하세요.: ')}님')"
      ]
    },
    {
      "cell_type": "code",
      "source": [
        "print(f'안녕하세요? {input()}님')"
      ],
      "metadata": {
        "colab": {
          "base_uri": "https://localhost:8080/"
        },
        "id": "kapMFivcATWg",
        "outputId": "3acaff23-176e-4c27-96a2-61d67633b0f8"
      },
      "execution_count": null,
      "outputs": [
        {
          "output_type": "stream",
          "name": "stdout",
          "text": [
            "susan\n",
            "안녕하세요? susan님\n"
          ]
        }
      ]
    },
    {
      "cell_type": "markdown",
      "source": [
        "### 세 정수의 중앙값 구하기\n",
        "\n",
        "1번 방법이 더 효율이 좋다. 2번에서 or로 연결된 두 조건은 서로 반대 상황이다. elif를 사용하면 반대되는 상황의 판단을 수행하지 않아도 되기 때문이다."
      ],
      "metadata": {
        "id": "iHXcyAoHHhqd"
      }
    },
    {
      "cell_type": "code",
      "source": [
        "# 1번 방법"
      ],
      "metadata": {
        "id": "WJjSS1VWA79o"
      },
      "execution_count": null,
      "outputs": []
    },
    {
      "cell_type": "code",
      "source": [
        "# 2번 방법"
      ],
      "metadata": {
        "id": "jzL_eCssHuW0"
      },
      "execution_count": null,
      "outputs": []
    },
    {
      "cell_type": "markdown",
      "source": [
        "### a~b까지 정수 합 구하기\n",
        "\n",
        "1번 방법보다 2번 방법이 효율적이다.\n",
        "1번은 if조건을 검사하여 마지막 원소인 경우에만 + 연산자가 아닌 =을 출력하게 되어 있다. 이런 예상 가능한 경우 if를 분리시켜 조건문 검사를 불필요하게 하지 않도록 2번처럼 작성하는것이 좋다.\n",
        "\n",
        "판단 횟수가 n->0회로 줄어들며, 반복 횟수도 1회 감소함"
      ],
      "metadata": {
        "id": "V8IjHJHQHlq2"
      }
    },
    {
      "cell_type": "code",
      "source": [],
      "metadata": {
        "id": "PrG1zJ1aHlTx"
      },
      "execution_count": null,
      "outputs": []
    },
    {
      "cell_type": "code",
      "source": [],
      "metadata": {
        "id": "r_4Vd8WDK71k"
      },
      "execution_count": null,
      "outputs": []
    },
    {
      "cell_type": "markdown",
      "source": [
        "### 두 값 교환하기"
      ],
      "metadata": {
        "id": "uF2DGda6K8Fj"
      }
    },
    {
      "cell_type": "code",
      "source": [],
      "metadata": {
        "id": "ERowc5x3K9yF"
      },
      "execution_count": null,
      "outputs": []
    },
    {
      "cell_type": "markdown",
      "source": [
        "### '+-' 반복 과정에서 조건 판단하기\n",
        "반복문에서 if를 수행하지 않아서 효율적이다,\n",
        "나눗셈 횟수도 총 2회로 줄어들었다.\n",
        "\n",
        "1번은 range가 바뀌게 되면 +부터 시작하지 않을 수 있어 반복문의 본문을 변경해야 하지만, 2번은 range 범위만 바꿔도 돼서 코드 수정이 간편하다. 반복문에서 반복변수 i를 사용하지 않아도 되기에 _로 사용하고 있다."
      ],
      "metadata": {
        "id": "IQrcCNOZK-cQ"
      }
    },
    {
      "cell_type": "code",
      "source": [],
      "metadata": {
        "id": "BSA99ZOSML9D"
      },
      "execution_count": null,
      "outputs": []
    },
    {
      "cell_type": "markdown",
      "source": [
        "### **'*' 및 줄바꿈 반복 과정에서 조건 판단하기**\n",
        "\n",
        "250213) 실습 1-15까지"
      ],
      "metadata": {
        "id": "P29TsWV-QzbA"
      }
    },
    {
      "cell_type": "code",
      "source": [],
      "metadata": {
        "id": "vOQee9KnS38h"
      },
      "execution_count": null,
      "outputs": []
    },
    {
      "cell_type": "code",
      "source": [],
      "metadata": {
        "id": "vG-WAVYGQ1iR"
      },
      "execution_count": null,
      "outputs": []
    }
  ]
}