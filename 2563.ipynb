{
  "nbformat": 4,
  "nbformat_minor": 0,
  "metadata": {
    "colab": {
      "provenance": [],
      "authorship_tag": "ABX9TyO2E5tP7ykC9EU0QjGmoZ0Z",
      "include_colab_link": true
    },
    "kernelspec": {
      "name": "python3",
      "display_name": "Python 3"
    },
    "language_info": {
      "name": "python"
    }
  },
  "cells": [
    {
      "cell_type": "markdown",
      "metadata": {
        "id": "view-in-github",
        "colab_type": "text"
      },
      "source": [
        "<a href=\"https://colab.research.google.com/github/sujeengim/ALGORITHM/blob/main/2563.ipynb\" target=\"_parent\"><img src=\"https://colab.research.google.com/assets/colab-badge.svg\" alt=\"Open In Colab\"/></a>"
      ]
    },
    {
      "cell_type": "markdown",
      "source": [
        "# 접근\n",
        "100 *100 크기의 배열을 만들고\n",
        "색종이가 놓이는 위치의 행열부분(셀들)을 count 한다.\n",
        "\n",
        "\n",
        "count가 0인 것을 구하여 10000에서 빼준다."
      ],
      "metadata": {
        "id": "NAGNljWnpsIp"
      }
    },
    {
      "cell_type": "code",
      "execution_count": 10,
      "metadata": {
        "id": "qGWCrjR-pE6I"
      },
      "outputs": [],
      "source": [
        "# 배열 초기화\n",
        "squareList = [[0] * 100 for _ in range(100)]\n",
        "\n",
        "n = int(input())\n",
        "\n",
        "for _ in range(n):\n",
        "    colstart, rowstart = map(int, input().split(' '))\n",
        "    squareList[rowstart:rowstart+11]"
      ]
    },
    {
      "cell_type": "code",
      "source": [
        "len(squareList)"
      ],
      "metadata": {
        "colab": {
          "base_uri": "https://localhost:8080/"
        },
        "id": "48MZRf31q65V",
        "outputId": "d6b5b4b0-a206-4ac3-8913-64dbd958fad1"
      },
      "execution_count": 13,
      "outputs": [
        {
          "output_type": "execute_result",
          "data": {
            "text/plain": [
              "100"
            ]
          },
          "metadata": {},
          "execution_count": 13
        }
      ]
    },
    {
      "cell_type": "markdown",
      "source": [
        "# 배열 초기화 테스트"
      ],
      "metadata": {
        "id": "P5FFFyxZrew0"
      }
    },
    {
      "cell_type": "code",
      "source": [
        "lst = [0] * 5\n",
        "lst"
      ],
      "metadata": {
        "colab": {
          "base_uri": "https://localhost:8080/"
        },
        "id": "q_0Zg__GreSF",
        "outputId": "012ec2aa-282f-4caa-c2ba-a19a1af4afe6"
      },
      "execution_count": 3,
      "outputs": [
        {
          "output_type": "execute_result",
          "data": {
            "text/plain": [
              "[0, 0, 0, 0, 0]"
            ]
          },
          "metadata": {},
          "execution_count": 3
        }
      ]
    },
    {
      "cell_type": "code",
      "source": [
        "lst2 = [[0] * 5 for _ in range(3)]\n",
        "lst2"
      ],
      "metadata": {
        "colab": {
          "base_uri": "https://localhost:8080/"
        },
        "id": "Uq1sNRG7rkma",
        "outputId": "b678c157-0858-4b91-c0a1-d54cd7ecffc3"
      },
      "execution_count": 6,
      "outputs": [
        {
          "output_type": "execute_result",
          "data": {
            "text/plain": [
              "[[0, 0, 0, 0, 0], [0, 0, 0, 0, 0], [0, 0, 0, 0, 0]]"
            ]
          },
          "metadata": {},
          "execution_count": 6
        }
      ]
    },
    {
      "cell_type": "markdown",
      "source": [
        "제너레이터 특징\n",
        "- 메모리 효율성: 모든 데이터를 한꺼번에 메모리에 올리지 않고 하나씩 생성.\n",
        "\n",
        "- Lazy Evaluation: 필요할 때만 값을 생성하여 처리 속도가 빠름.\n",
        "\n",
        "- 반복자(Iterator)와 유사: next() 함수를 통해 값을 하나씩 얻을 수 있음."
      ],
      "metadata": {
        "id": "owrZem3Wsg5M"
      }
    },
    {
      "cell_type": "code",
      "source": [
        "lst3 = ([0] * 5 for _ in range(3))\n",
        "lst3"
      ],
      "metadata": {
        "colab": {
          "base_uri": "https://localhost:8080/"
        },
        "id": "Ohi3w8morp2q",
        "outputId": "43726e7d-bcf1-41e9-d132-62bbe505ba11"
      },
      "execution_count": 8,
      "outputs": [
        {
          "output_type": "execute_result",
          "data": {
            "text/plain": [
              "<generator object <genexpr> at 0x7f96134f68e0>"
            ]
          },
          "metadata": {},
          "execution_count": 8
        }
      ]
    },
    {
      "cell_type": "code",
      "source": [
        "for i in lst3:\n",
        "    print(i)"
      ],
      "metadata": {
        "colab": {
          "base_uri": "https://localhost:8080/"
        },
        "id": "D99GpxUwry4t",
        "outputId": "72f687bc-16a7-453f-8dac-110f417abc0f"
      },
      "execution_count": 9,
      "outputs": [
        {
          "output_type": "stream",
          "name": "stdout",
          "text": [
            "[0, 0, 0, 0, 0]\n",
            "[0, 0, 0, 0, 0]\n",
            "[0, 0, 0, 0, 0]\n"
          ]
        }
      ]
    },
    {
      "cell_type": "code",
      "source": [],
      "metadata": {
        "id": "TYoRawBysdrj"
      },
      "execution_count": null,
      "outputs": []
    }
  ]
}